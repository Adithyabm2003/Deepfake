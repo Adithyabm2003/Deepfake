{
 "cells": [
  {
   "cell_type": "markdown",
   "metadata": {},
   "source": [
    "# Import libraries, load and transform data"
   ]
  },
  {
   "cell_type": "code",
   "execution_count": null,
   "metadata": {
    "execution": {
     "iopub.execute_input": "2024-03-18T11:43:07.131540Z",
     "iopub.status.busy": "2024-03-18T11:43:07.130733Z",
     "iopub.status.idle": "2024-03-18T11:43:45.731704Z",
     "shell.execute_reply": "2024-03-18T11:43:45.730512Z",
     "shell.execute_reply.started": "2024-03-18T11:43:07.131508Z"
    },
    "trusted": true
   },
   "outputs": [],
   "source": [
    "# Install necessary Python packages using pip\n",
    "\n",
    "# Use the 'pip' command to install packages\n",
    "# The '-q' flag stands for 'quiet,' which means it will suppress most output, making the installation process less verbose\n",
    "# We're installing the following packages:\n",
    "# - 'evaluate': This package is likely used for evaluation purposes, but the specific functionality is not clear from this line alone\n",
    "# - 'transformers': This package is commonly used for natural language processing tasks, such as working with pre-trained language models like BERT or GPT\n",
    "# - 'datasets': This package provides easy access to various datasets commonly used in machine learning and natural language processing tasks\n",
    "# - 'mlflow': MLflow is an open-source platform for managing the end-to-end machine learning lifecycle, including tracking experiments, packaging code into reproducible runs, and sharing and deploying models\n",
    "\n",
    "# Note: Before running this code, make sure you have Python and pip installed on your system.\n",
    "# Also, ensure you have an internet connection since pip will download and install these packages from PyPI (Python Package Index).\n",
    "!pip install -U -q evaluate transformers datasets>=2.14.5 accelerate>=0.27 2>/dev/null"
   ]
  },
  {
   "cell_type": "code",
   "execution_count": null,
   "metadata": {
    "execution": {
     "iopub.execute_input": "2024-03-18T11:43:45.733897Z",
     "iopub.status.busy": "2024-03-18T11:43:45.733592Z",
     "iopub.status.idle": "2024-03-18T11:43:59.969471Z",
     "shell.execute_reply": "2024-03-18T11:43:59.968548Z",
     "shell.execute_reply.started": "2024-03-18T11:43:45.733869Z"
    },
    "trusted": true
   },
   "outputs": [],
   "source": [
    "# Importing necessary libraries and modules\n",
    "import warnings  # Import the 'warnings' module for handling warnings\n",
    "warnings.filterwarnings(\"ignore\")  # Ignore warnings during execution\n",
    "\n",
    "import gc  # Import the 'gc' module for garbage collection\n",
    "import numpy as np  # Import NumPy for numerical operations\n",
    "import pandas as pd  # Import Pandas for data manipulation\n",
    "import itertools  # Import 'itertools' for iterators and looping\n",
    "from collections import Counter  # Import 'Counter' for counting elements\n",
    "import matplotlib.pyplot as plt  # Import Matplotlib for data visualization\n",
    "from sklearn.metrics import (  # Import various metrics from scikit-learn\n",
    "    accuracy_score,  # For calculating accuracy\n",
    "    roc_auc_score,  # For ROC AUC score\n",
    "    confusion_matrix,  # For confusion matrix\n",
    "    classification_report,  # For classification report\n",
    "    f1_score  # For F1 score\n",
    ")\n",
    "\n",
    "# Import custom modules and classes\n",
    "from imblearn.over_sampling import RandomOverSampler # import RandomOverSampler\n",
    "import accelerate # Import the 'accelerate' module\n",
    "import evaluate  # Import the 'evaluate' module\n",
    "from datasets import Dataset, Image, ClassLabel  # Import custom 'Dataset', 'ClassLabel', and 'Image' classes\n",
    "from transformers import (  # Import various modules from the Transformers library\n",
    "    TrainingArguments,  # For training arguments\n",
    "    Trainer,  # For model training\n",
    "    ViTImageProcessor,  # For processing image data with ViT models\n",
    "    ViTForImageClassification,  # ViT model for image classification\n",
    "    DefaultDataCollator  # For collating data in the default way\n",
    ")\n",
    "import torch  # Import PyTorch for deep learning\n",
    "from torch.utils.data import DataLoader  # For creating data loaders\n",
    "from torchvision.transforms import (  # Import image transformation functions\n",
    "    CenterCrop,  # Center crop an image\n",
    "    Compose,  # Compose multiple image transformations\n",
    "    Normalize,  # Normalize image pixel values\n",
    "    RandomRotation,  # Apply random rotation to images\n",
    "    RandomResizedCrop,  # Crop and resize images randomly\n",
    "    RandomHorizontalFlip,  # Apply random horizontal flip\n",
    "    RandomAdjustSharpness,  # Adjust sharpness randomly\n",
    "    Resize,  # Resize images\n",
    "    ToTensor  # Convert images to PyTorch tensors\n",
    ")"
   ]
  },
  {
   "cell_type": "code",
   "execution_count": null,
   "metadata": {
    "execution": {
     "iopub.execute_input": "2024-03-18T11:43:59.971088Z",
     "iopub.status.busy": "2024-03-18T11:43:59.970547Z",
     "iopub.status.idle": "2024-03-18T11:43:59.975723Z",
     "shell.execute_reply": "2024-03-18T11:43:59.974702Z",
     "shell.execute_reply.started": "2024-03-18T11:43:59.971061Z"
    },
    "trusted": true
   },
   "outputs": [],
   "source": [
    "# Import the necessary module from the Python Imaging Library (PIL).\n",
    "from PIL import ImageFile\n",
    "\n",
    "# Enable the option to load truncated images.\n",
    "# This setting allows the PIL library to attempt loading images even if they are corrupted or incomplete.\n",
    "ImageFile.LOAD_TRUNCATED_IMAGES = True"
   ]
  },
  {
   "cell_type": "code",
   "execution_count": null,
   "metadata": {
    "execution": {
     "iopub.execute_input": "2024-03-18T11:43:59.979074Z",
     "iopub.status.busy": "2024-03-18T11:43:59.978428Z",
     "iopub.status.idle": "2024-03-18T11:44:07.070827Z",
     "shell.execute_reply": "2024-03-18T11:44:07.069882Z",
     "shell.execute_reply.started": "2024-03-18T11:43:59.979042Z"
    },
    "trusted": true
   },
   "outputs": [],
   "source": [
    "# use https://huggingface.co/docs/datasets/image_load for reference\n",
    "\n",
    "# Import necessary libraries\n",
    "image_dict = {}\n",
    "\n",
    "# Define the list of file names\n",
    "from pathlib import Path\n",
    "from tqdm import tqdm\n",
    "import os\n",
    "# Initialize empty lists to store file names and labels\n",
    "file_names = []\n",
    "labels = []\n",
    "\n",
    "# Iterate through all image files in the specified directory\n",
    "for file in sorted((Path('/kaggle/input/deepfake-and-real-images/Dataset/').glob('*/*/*.*'))):\n",
    "    label = str(file).split('/')[-2]  # Extract the label from the file path\n",
    "    labels.append(label)  # Add the label to the list\n",
    "    file_names.append(str(file))  # Add the file path to the list\n",
    "\n",
    "# Print the total number of file names and labels\n",
    "print(len(file_names), len(labels))\n",
    "\n",
    "# Create a pandas dataframe from the collected file names and labels\n",
    "df = pd.DataFrame.from_dict({\"image\": file_names, \"label\": labels})\n",
    "print(df.shape)"
   ]
  },
  {
   "cell_type": "code",
   "execution_count": null,
   "metadata": {
    "execution": {
     "iopub.execute_input": "2024-03-18T11:44:07.072187Z",
     "iopub.status.busy": "2024-03-18T11:44:07.071905Z",
     "iopub.status.idle": "2024-03-18T11:44:07.088382Z",
     "shell.execute_reply": "2024-03-18T11:44:07.087620Z",
     "shell.execute_reply.started": "2024-03-18T11:44:07.072157Z"
    },
    "trusted": true
   },
   "outputs": [],
   "source": [
    "df.head()"
   ]
  },
  {
   "cell_type": "code",
   "execution_count": null,
   "metadata": {
    "execution": {
     "iopub.execute_input": "2024-03-18T11:44:07.089675Z",
     "iopub.status.busy": "2024-03-18T11:44:07.089417Z",
     "iopub.status.idle": "2024-03-18T11:44:07.115148Z",
     "shell.execute_reply": "2024-03-18T11:44:07.114334Z",
     "shell.execute_reply.started": "2024-03-18T11:44:07.089653Z"
    },
    "trusted": true
   },
   "outputs": [],
   "source": [
    "df['label'].unique()"
   ]
  },
  {
   "cell_type": "code",
   "execution_count": null,
   "metadata": {
    "execution": {
     "iopub.execute_input": "2024-03-18T11:44:07.116414Z",
     "iopub.status.busy": "2024-03-18T11:44:07.116108Z",
     "iopub.status.idle": "2024-03-18T11:44:08.564362Z",
     "shell.execute_reply": "2024-03-18T11:44:08.563519Z",
     "shell.execute_reply.started": "2024-03-18T11:44:07.116389Z"
    },
    "trusted": true
   },
   "outputs": [],
   "source": [
    "# random oversampling of minority class\n",
    "# 'y' contains the target variable (label) we want to predict\n",
    "y = df[['label']]\n",
    "\n",
    "# Drop the 'label' column from the DataFrame 'df' to separate features from the target variable\n",
    "df = df.drop(['label'], axis=1)\n",
    "\n",
    "# Create a RandomOverSampler object with a specified random seed (random_state=83)\n",
    "ros = RandomOverSampler(random_state=83)\n",
    "\n",
    "# Use the RandomOverSampler to resample the dataset by oversampling the minority class\n",
    "# 'df' contains the feature data, and 'y_resampled' will contain the resampled target variable\n",
    "df, y_resampled = ros.fit_resample(df, y)\n",
    "\n",
    "# Delete the original 'y' variable to save memory as it's no longer needed\n",
    "del y\n",
    "\n",
    "# Add the resampled target variable 'y_resampled' as a new 'label' column in the DataFrame 'df'\n",
    "df['label'] = y_resampled\n",
    "\n",
    "# Delete the 'y_resampled' variable to save memory as it's no longer needed\n",
    "del y_resampled\n",
    "\n",
    "# Perform garbage collection to free up memory used by discarded variables\n",
    "gc.collect()\n",
    "\n",
    "print(df.shape)"
   ]
  },
  {
   "cell_type": "code",
   "execution_count": null,
   "metadata": {
    "execution": {
     "iopub.execute_input": "2024-03-18T11:44:08.565622Z",
     "iopub.status.busy": "2024-03-18T11:44:08.565365Z",
     "iopub.status.idle": "2024-03-18T11:44:08.709589Z",
     "shell.execute_reply": "2024-03-18T11:44:08.708638Z",
     "shell.execute_reply.started": "2024-03-18T11:44:08.565600Z"
    },
    "trusted": true
   },
   "outputs": [],
   "source": [
    "# Create a dataset from a Pandas DataFrame.\n",
    "dataset = Dataset.from_pandas(df).cast_column(\"image\", Image())"
   ]
  },
  {
   "cell_type": "code",
   "execution_count": null,
   "metadata": {
    "execution": {
     "iopub.execute_input": "2024-03-18T11:44:08.710930Z",
     "iopub.status.busy": "2024-03-18T11:44:08.710648Z",
     "iopub.status.idle": "2024-03-18T11:44:09.141297Z",
     "shell.execute_reply": "2024-03-18T11:44:09.140447Z",
     "shell.execute_reply.started": "2024-03-18T11:44:08.710906Z"
    },
    "trusted": true
   },
   "outputs": [],
   "source": [
    "# Display the first image in the dataset\n",
    "dataset[0][\"image\"]"
   ]
  },
  {
   "cell_type": "code",
   "execution_count": null,
   "metadata": {
    "execution": {
     "iopub.execute_input": "2024-03-18T11:44:09.145963Z",
     "iopub.status.busy": "2024-03-18T11:44:09.145114Z",
     "iopub.status.idle": "2024-03-18T11:44:09.150731Z",
     "shell.execute_reply": "2024-03-18T11:44:09.149909Z",
     "shell.execute_reply.started": "2024-03-18T11:44:09.145929Z"
    },
    "trusted": true
   },
   "outputs": [],
   "source": [
    "# Extracting a subset of elements from the 'labels' list using slicing.\n",
    "# The slicing syntax [:5] selects elements from the beginning up to (but not including) the 5th element.\n",
    "# This will give us the first 5 elements of the 'labels' list.\n",
    "# The result will be a new list containing these elements.\n",
    "labels_subset = labels[:5]\n",
    "\n",
    "# Printing the subset of labels to inspect the content.\n",
    "print(labels_subset)"
   ]
  },
  {
   "cell_type": "code",
   "execution_count": null,
   "metadata": {
    "execution": {
     "iopub.execute_input": "2024-03-18T11:44:09.151944Z",
     "iopub.status.busy": "2024-03-18T11:44:09.151707Z",
     "iopub.status.idle": "2024-03-18T11:44:09.167218Z",
     "shell.execute_reply": "2024-03-18T11:44:09.166435Z",
     "shell.execute_reply.started": "2024-03-18T11:44:09.151922Z"
    },
    "trusted": true
   },
   "outputs": [],
   "source": [
    "# Create a list of unique labels by converting 'labels' to a set and then back to a list\n",
    "labels_list = ['Real', 'Fake'] # list(set(labels))\n",
    "\n",
    "# Initialize empty dictionaries to map labels to IDs and vice versa\n",
    "label2id, id2label = dict(), dict()\n",
    "\n",
    "# Iterate over the unique labels and assign each label an ID, and vice versa\n",
    "for i, label in enumerate(labels_list):\n",
    "    label2id[label] = i  # Map the label to its corresponding ID\n",
    "    id2label[i] = label  # Map the ID to its corresponding label\n",
    "\n",
    "# Print the resulting dictionaries for reference\n",
    "print(\"Mapping of IDs to Labels:\", id2label, '\\n')\n",
    "print(\"Mapping of Labels to IDs:\", label2id)"
   ]
  },
  {
   "cell_type": "code",
   "execution_count": null,
   "metadata": {
    "execution": {
     "iopub.execute_input": "2024-03-18T11:44:09.168932Z",
     "iopub.status.busy": "2024-03-18T11:44:09.168333Z",
     "iopub.status.idle": "2024-03-18T11:44:10.027072Z",
     "shell.execute_reply": "2024-03-18T11:44:10.026156Z",
     "shell.execute_reply.started": "2024-03-18T11:44:09.168901Z"
    },
    "trusted": true
   },
   "outputs": [],
   "source": [
    "# Creating classlabels to match labels to IDs\n",
    "ClassLabels = ClassLabel(num_classes=len(labels_list), names=labels_list)\n",
    "\n",
    "# Mapping labels to IDs\n",
    "def map_label2id(example):\n",
    "    example['label'] = ClassLabels.str2int(example['label'])\n",
    "    return example\n",
    "\n",
    "dataset = dataset.map(map_label2id, batched=True)\n",
    "\n",
    "# Casting label column to ClassLabel Object\n",
    "dataset = dataset.cast_column('label', ClassLabels)\n",
    "\n",
    "# Splitting the dataset into training and testing sets using an 60-40 split ratio.\n",
    "dataset = dataset.train_test_split(test_size=0.4, shuffle=True, stratify_by_column=\"label\")\n",
    "\n",
    "# Extracting the training data from the split dataset.\n",
    "train_data = dataset['train']\n",
    "\n",
    "# Extracting the testing data from the split dataset.\n",
    "test_data = dataset['test']"
   ]
  },
  {
   "cell_type": "code",
   "execution_count": null,
   "metadata": {
    "execution": {
     "iopub.execute_input": "2024-03-18T11:44:10.028617Z",
     "iopub.status.busy": "2024-03-18T11:44:10.028319Z",
     "iopub.status.idle": "2024-03-18T11:44:10.813466Z",
     "shell.execute_reply": "2024-03-18T11:44:10.812604Z",
     "shell.execute_reply.started": "2024-03-18T11:44:10.028593Z"
    },
    "trusted": true
   },
   "outputs": [],
   "source": [
    "# Define the pre-trained ViT model string\n",
    "model_str = \"dima806/deepfake_vs_real_image_detection\" # 'google/vit-base-patch16-224-in21k'\n",
    "\n",
    "# Create a processor for ViT model input from the pre-trained model\n",
    "processor = ViTImageProcessor.from_pretrained(model_str)\n",
    "\n",
    "# Retrieve the image mean and standard deviation used for normalization\n",
    "image_mean, image_std = processor.image_mean, processor.image_std\n",
    "\n",
    "# Get the size (height) of the ViT model's input images\n",
    "size = processor.size[\"height\"]\n",
    "print(\"Size: \", size)\n",
    "\n",
    "# Define a normalization transformation for the input images\n",
    "normalize = Normalize(mean=image_mean, std=image_std)\n",
    "\n",
    "# Define a set of transformations for training data\n",
    "_train_transforms = Compose(\n",
    "    [\n",
    "        Resize((size, size)),             # Resize images to the ViT model's input size\n",
    "        RandomRotation(90),               # Apply random rotation\n",
    "        RandomAdjustSharpness(2),         # Adjust sharpness randomly\n",
    "        ToTensor(),                       # Convert images to tensors\n",
    "        normalize                         # Normalize images using mean and std\n",
    "    ]\n",
    ")\n",
    "\n",
    "# Define a set of transformations for validation data\n",
    "_val_transforms = Compose(\n",
    "    [\n",
    "        Resize((size, size)),             # Resize images to the ViT model's input size\n",
    "        ToTensor(),                       # Convert images to tensors\n",
    "        normalize                         # Normalize images using mean and std\n",
    "    ]\n",
    ")\n",
    "\n",
    "# Define a function to apply training transformations to a batch of examples\n",
    "def train_transforms(examples):\n",
    "    examples['pixel_values'] = [_train_transforms(image.convert(\"RGB\")) for image in examples['image']]\n",
    "    return examples\n",
    "\n",
    "# Define a function to apply validation transformations to a batch of examples\n",
    "def val_transforms(examples):\n",
    "    examples['pixel_values'] = [_val_transforms(image.convert(\"RGB\")) for image in examples['image']]\n",
    "    return examples"
   ]
  },
  {
   "cell_type": "code",
   "execution_count": null,
   "metadata": {
    "execution": {
     "iopub.execute_input": "2024-03-18T11:44:10.814838Z",
     "iopub.status.busy": "2024-03-18T11:44:10.814567Z",
     "iopub.status.idle": "2024-03-18T11:44:10.827290Z",
     "shell.execute_reply": "2024-03-18T11:44:10.826379Z",
     "shell.execute_reply.started": "2024-03-18T11:44:10.814813Z"
    },
    "trusted": true
   },
   "outputs": [],
   "source": [
    "# Set the transforms for the training data\n",
    "train_data.set_transform(train_transforms)\n",
    "\n",
    "# Set the transforms for the test/validation data\n",
    "test_data.set_transform(val_transforms)"
   ]
  },
  {
   "cell_type": "code",
   "execution_count": null,
   "metadata": {
    "execution": {
     "iopub.execute_input": "2024-03-18T11:44:10.828976Z",
     "iopub.status.busy": "2024-03-18T11:44:10.828713Z",
     "iopub.status.idle": "2024-03-18T11:44:10.841230Z",
     "shell.execute_reply": "2024-03-18T11:44:10.840458Z",
     "shell.execute_reply.started": "2024-03-18T11:44:10.828952Z"
    },
    "trusted": true
   },
   "outputs": [],
   "source": [
    "# Define a collate function that prepares batched data for model training.\n",
    "def collate_fn(examples):\n",
    "    # Stack the pixel values from individual examples into a single tensor.\n",
    "    pixel_values = torch.stack([example[\"pixel_values\"] for example in examples])\n",
    "    \n",
    "    # Convert the label strings in examples to corresponding numeric IDs using label2id dictionary.\n",
    "    labels = torch.tensor([example['label'] for example in examples])\n",
    "    \n",
    "    # Return a dictionary containing the batched pixel values and labels.\n",
    "    return {\"pixel_values\": pixel_values, \"labels\": labels}"
   ]
  },
  {
   "cell_type": "markdown",
   "metadata": {},
   "source": [
    "# Load, train, and evaluate model"
   ]
  },
  {
   "cell_type": "code",
   "execution_count": null,
   "metadata": {
    "execution": {
     "iopub.execute_input": "2024-03-18T11:44:10.842559Z",
     "iopub.status.busy": "2024-03-18T11:44:10.842295Z",
     "iopub.status.idle": "2024-03-18T11:44:19.233425Z",
     "shell.execute_reply": "2024-03-18T11:44:19.232528Z",
     "shell.execute_reply.started": "2024-03-18T11:44:10.842536Z"
    },
    "trusted": true
   },
   "outputs": [],
   "source": [
    "# Create a ViTForImageClassification model from a pretrained checkpoint with a specified number of output labels.\n",
    "model = ViTForImageClassification.from_pretrained(model_str, num_labels=len(labels_list))\n",
    "\n",
    "# Configure the mapping of class labels to their corresponding indices for later reference.\n",
    "model.config.id2label = id2label\n",
    "model.config.label2id = label2id\n",
    "\n",
    "# Calculate and print the number of trainable parameters in millions for the model.\n",
    "print(model.num_parameters(only_trainable=True) / 1e6)"
   ]
  },
  {
   "cell_type": "code",
   "execution_count": null,
   "metadata": {
    "execution": {
     "iopub.execute_input": "2024-03-18T11:44:19.234907Z",
     "iopub.status.busy": "2024-03-18T11:44:19.234620Z",
     "iopub.status.idle": "2024-03-18T11:44:20.065983Z",
     "shell.execute_reply": "2024-03-18T11:44:20.065247Z",
     "shell.execute_reply.started": "2024-03-18T11:44:19.234882Z"
    },
    "trusted": true
   },
   "outputs": [],
   "source": [
    "# Load the accuracy metric from a module named 'evaluate'\n",
    "accuracy = evaluate.load(\"accuracy\")\n",
    "\n",
    "# Define a function 'compute_metrics' to calculate evaluation metrics\n",
    "def compute_metrics(eval_pred):\n",
    "    # Extract model predictions from the evaluation prediction object\n",
    "    predictions = eval_pred.predictions\n",
    "    \n",
    "    # Extract true labels from the evaluation prediction object\n",
    "    label_ids = eval_pred.label_ids\n",
    "    \n",
    "    # Calculate accuracy using the loaded accuracy metric\n",
    "    # Convert model predictions to class labels by selecting the class with the highest probability (argmax)\n",
    "    predicted_labels = predictions.argmax(axis=1)\n",
    "    \n",
    "    # Calculate accuracy score by comparing predicted labels to true labels\n",
    "    acc_score = accuracy.compute(predictions=predicted_labels, references=label_ids)['accuracy']\n",
    "    \n",
    "    # Return the computed accuracy as a dictionary with the key \"accuracy\"\n",
    "    return {\n",
    "        \"accuracy\": acc_score\n",
    "    }\n"
   ]
  },
  {
   "cell_type": "code",
   "execution_count": null,
   "metadata": {
    "execution": {
     "iopub.execute_input": "2024-03-18T11:44:20.067362Z",
     "iopub.status.busy": "2024-03-18T11:44:20.067090Z",
     "iopub.status.idle": "2024-03-18T11:44:20.122743Z",
     "shell.execute_reply": "2024-03-18T11:44:20.121860Z",
     "shell.execute_reply.started": "2024-03-18T11:44:20.067338Z"
    },
    "trusted": true
   },
   "outputs": [],
   "source": [
    "# Define the name of the evaluation metric to be used during training and evaluation.\n",
    "metric_name = \"accuracy\"\n",
    "\n",
    "# Define the name of the model, which will be used to create a directory for saving model checkpoints and outputs.\n",
    "model_name = \"deepfake_vs_real_image_detection\"\n",
    "\n",
    "# Define the number of training epochs for the model.\n",
    "num_train_epochs = 2\n",
    "\n",
    "# Create an instance of TrainingArguments to configure training settings.\n",
    "args = TrainingArguments(\n",
    "    # Specify the directory where model checkpoints and outputs will be saved.\n",
    "    output_dir=model_name,\n",
    "    \n",
    "    # Specify the directory where training logs will be stored.\n",
    "    logging_dir='./logs',\n",
    "    \n",
    "    # Define the evaluation strategy, which is performed at the end of each epoch.\n",
    "    evaluation_strategy=\"epoch\",\n",
    "    \n",
    "    # Set the learning rate for the optimizer.\n",
    "    learning_rate=1e-6,\n",
    "    \n",
    "    # Define the batch size for training on each device.\n",
    "    per_device_train_batch_size=32,\n",
    "    \n",
    "    # Define the batch size for evaluation on each device.\n",
    "    per_device_eval_batch_size=8,\n",
    "    \n",
    "    # Specify the total number of training epochs.\n",
    "    num_train_epochs=num_train_epochs,\n",
    "    \n",
    "    # Apply weight decay to prevent overfitting.\n",
    "    weight_decay=0.02,\n",
    "    \n",
    "    # Set the number of warm-up steps for the learning rate scheduler.\n",
    "    warmup_steps=50,\n",
    "    \n",
    "    # Disable the removal of unused columns from the dataset.\n",
    "    remove_unused_columns=False,\n",
    "    \n",
    "    # Define the strategy for saving model checkpoints (per epoch in this case).\n",
    "    save_strategy='epoch',\n",
    "    \n",
    "    # Load the best model at the end of training.\n",
    "    load_best_model_at_end=True,\n",
    "    \n",
    "    # Limit the total number of saved checkpoints to save space.\n",
    "    save_total_limit=1,\n",
    "    \n",
    "    # Specify that training progress should not be reported.\n",
    "    report_to=\"none\"\n",
    ")"
   ]
  },
  {
   "cell_type": "code",
   "execution_count": null,
   "metadata": {
    "execution": {
     "iopub.execute_input": "2024-03-18T11:44:20.124121Z",
     "iopub.status.busy": "2024-03-18T11:44:20.123855Z",
     "iopub.status.idle": "2024-03-18T11:44:20.363273Z",
     "shell.execute_reply": "2024-03-18T11:44:20.362468Z",
     "shell.execute_reply.started": "2024-03-18T11:44:20.124097Z"
    },
    "trusted": true
   },
   "outputs": [],
   "source": [
    "# Create a Trainer instance for fine-tuning a language model.\n",
    "\n",
    "# - `model`: The pre-trained language model to be fine-tuned.\n",
    "# - `args`: Configuration settings and hyperparameters for training.\n",
    "# - `train_dataset`: The dataset used for training the model.\n",
    "# - `eval_dataset`: The dataset used for evaluating the model during training.\n",
    "# - `data_collator`: A function that defines how data batches are collated and processed.\n",
    "# - `compute_metrics`: A function for computing custom evaluation metrics.\n",
    "# - `tokenizer`: The tokenizer used for processing text data.\n",
    "\n",
    "trainer = Trainer(\n",
    "    model,\n",
    "    args,\n",
    "    train_dataset=train_data,\n",
    "    eval_dataset=test_data,\n",
    "    data_collator=collate_fn,\n",
    "    compute_metrics=compute_metrics,\n",
    "    tokenizer=processor,\n",
    ")"
   ]
  },
  {
   "cell_type": "code",
   "execution_count": null,
   "metadata": {
    "execution": {
     "iopub.execute_input": "2024-03-18T11:44:20.364623Z",
     "iopub.status.busy": "2024-03-18T11:44:20.364344Z",
     "iopub.status.idle": "2024-03-18T12:02:38.804422Z",
     "shell.execute_reply": "2024-03-18T12:02:38.803567Z",
     "shell.execute_reply.started": "2024-03-18T11:44:20.364599Z"
    },
    "trusted": true
   },
   "outputs": [],
   "source": [
    "# Evaluate the pre-training model's performance on a test dataset.\n",
    "# This function calculates various metrics such as accuracy, loss, etc.,\n",
    "# to assess how well the model is performing on unseen data.\n",
    "\n",
    "trainer.evaluate()"
   ]
  },
  {
   "cell_type": "code",
   "execution_count": null,
   "metadata": {
    "execution": {
     "iopub.execute_input": "2024-03-18T12:02:38.805889Z",
     "iopub.status.busy": "2024-03-18T12:02:38.805591Z",
     "iopub.status.idle": "2024-03-18T14:01:13.985972Z",
     "shell.execute_reply": "2024-03-18T14:01:13.985015Z",
     "shell.execute_reply.started": "2024-03-18T12:02:38.805864Z"
    },
    "trusted": true
   },
   "outputs": [],
   "source": [
    "# Start training the model using the trainer object.\n",
    "trainer.train()"
   ]
  },
  {
   "cell_type": "code",
   "execution_count": null,
   "metadata": {
    "execution": {
     "iopub.execute_input": "2024-03-18T14:01:13.988285Z",
     "iopub.status.busy": "2024-03-18T14:01:13.987400Z",
     "iopub.status.idle": "2024-03-18T14:14:06.960708Z",
     "shell.execute_reply": "2024-03-18T14:14:06.959792Z",
     "shell.execute_reply.started": "2024-03-18T14:01:13.988243Z"
    },
    "trusted": true
   },
   "outputs": [],
   "source": [
    "# Evaluate the post-training model's performance on the validation or test dataset.\n",
    "# This function computes various evaluation metrics like accuracy, loss, etc.\n",
    "# and provides insights into how well the model is performing.\n",
    "\n",
    "trainer.evaluate()"
   ]
  },
  {
   "cell_type": "code",
   "execution_count": null,
   "metadata": {
    "execution": {
     "iopub.execute_input": "2024-03-18T14:14:06.962382Z",
     "iopub.status.busy": "2024-03-18T14:14:06.962037Z",
     "iopub.status.idle": "2024-03-18T14:27:08.621604Z",
     "shell.execute_reply": "2024-03-18T14:27:08.620686Z",
     "shell.execute_reply.started": "2024-03-18T14:14:06.962349Z"
    },
    "trusted": true
   },
   "outputs": [],
   "source": [
    "# Use the trained 'trainer' to make predictions on the 'test_data'.\n",
    "outputs = trainer.predict(test_data)\n",
    "\n",
    "# Print the metrics obtained from the prediction outputs.\n",
    "print(outputs.metrics)"
   ]
  },
  {
   "cell_type": "code",
   "execution_count": null,
   "metadata": {
    "execution": {
     "iopub.execute_input": "2024-03-18T14:27:08.623626Z",
     "iopub.status.busy": "2024-03-18T14:27:08.623266Z",
     "iopub.status.idle": "2024-03-18T14:27:09.144009Z",
     "shell.execute_reply": "2024-03-18T14:27:09.143070Z",
     "shell.execute_reply.started": "2024-03-18T14:27:08.623593Z"
    },
    "trusted": true
   },
   "outputs": [],
   "source": [
    "# Extract the true labels from the model outputs\n",
    "y_true = outputs.label_ids\n",
    "\n",
    "# Predict the labels by selecting the class with the highest probability\n",
    "y_pred = outputs.predictions.argmax(1)\n",
    "\n",
    "# Define a function to plot a confusion matrix\n",
    "def plot_confusion_matrix(cm, classes, title='Confusion Matrix', cmap=plt.cm.Blues, figsize=(10, 8)):\n",
    "    \"\"\"\n",
    "    This function plots a confusion matrix.\n",
    "\n",
    "    Parameters:\n",
    "        cm (array-like): Confusion matrix as returned by sklearn.metrics.confusion_matrix.\n",
    "        classes (list): List of class names, e.g., ['Class 0', 'Class 1'].\n",
    "        title (str): Title for the plot.\n",
    "        cmap (matplotlib colormap): Colormap for the plot.\n",
    "    \"\"\"\n",
    "    # Create a figure with a specified size\n",
    "    plt.figure(figsize=figsize)\n",
    "    \n",
    "    # Display the confusion matrix as an image with a colormap\n",
    "    plt.imshow(cm, interpolation='nearest', cmap=cmap)\n",
    "    plt.title(title)\n",
    "    plt.colorbar()\n",
    "\n",
    "    # Define tick marks and labels for the classes on the axes\n",
    "    tick_marks = np.arange(len(classes))\n",
    "    plt.xticks(tick_marks, classes, rotation=90)\n",
    "    plt.yticks(tick_marks, classes)\n",
    "\n",
    "    fmt = '.0f'\n",
    "    # Add text annotations to the plot indicating the values in the cells\n",
    "    thresh = cm.max() / 2.0\n",
    "    for i, j in itertools.product(range(cm.shape[0]), range(cm.shape[1])):\n",
    "        plt.text(j, i, format(cm[i, j], fmt), horizontalalignment=\"center\", color=\"white\" if cm[i, j] > thresh else \"black\")\n",
    "\n",
    "    # Label the axes\n",
    "    plt.ylabel('True label')\n",
    "    plt.xlabel('Predicted label')\n",
    "\n",
    "    # Ensure the plot layout is tight\n",
    "    plt.tight_layout()\n",
    "    # Display the plot\n",
    "    plt.show()\n",
    "\n",
    "# Calculate accuracy and F1 score\n",
    "accuracy = accuracy_score(y_true, y_pred)\n",
    "f1 = f1_score(y_true, y_pred, average='macro')\n",
    "\n",
    "# Display accuracy and F1 score\n",
    "print(f\"Accuracy: {accuracy:.4f}\")\n",
    "print(f\"F1 Score: {f1:.4f}\")\n",
    "\n",
    "# Get the confusion matrix if there are a small number of labels\n",
    "if len(labels_list) <= 150:\n",
    "    # Compute the confusion matrix\n",
    "    cm = confusion_matrix(y_true, y_pred)\n",
    "\n",
    "    # Plot the confusion matrix using the defined function\n",
    "    plot_confusion_matrix(cm, labels_list, figsize=(8, 6))\n",
    "    \n",
    "# Finally, display classification report\n",
    "print()\n",
    "print(\"Classification report:\")\n",
    "print()\n",
    "print(classification_report(y_true, y_pred, target_names=labels_list, digits=4))"
   ]
  },
  {
   "cell_type": "code",
   "execution_count": null,
   "metadata": {
    "execution": {
     "iopub.execute_input": "2024-03-18T14:27:09.145762Z",
     "iopub.status.busy": "2024-03-18T14:27:09.145356Z",
     "iopub.status.idle": "2024-03-18T14:27:09.661238Z",
     "shell.execute_reply": "2024-03-18T14:27:09.660260Z",
     "shell.execute_reply.started": "2024-03-18T14:27:09.145716Z"
    },
    "trusted": true
   },
   "outputs": [],
   "source": [
    "# Save the trained model: This line of code is responsible for saving the model\n",
    "# that has been trained using the trainer object. It will serialize the model\n",
    "# and its associated weights, making it possible to reload and use the model\n",
    "# in the future without the need to retrain it.\n",
    "trainer.save_model()"
   ]
  },
  {
   "cell_type": "code",
   "execution_count": null,
   "metadata": {
    "execution": {
     "iopub.execute_input": "2024-03-18T14:27:09.662784Z",
     "iopub.status.busy": "2024-03-18T14:27:09.662461Z",
     "iopub.status.idle": "2024-03-18T14:27:09.976684Z",
     "shell.execute_reply": "2024-03-18T14:27:09.975919Z",
     "shell.execute_reply.started": "2024-03-18T14:27:09.662758Z"
    },
    "trusted": true
   },
   "outputs": [],
   "source": [
    "# Import the 'pipeline' function from the 'transformers' library.\n",
    "from transformers import pipeline\n",
    "\n",
    "# Create a pipeline for image classification tasks. \n",
    "# You need to specify the 'model_name' and the 'device' to use for inference.\n",
    "# - 'model_name': The name of the pre-trained model to be used for image classification.\n",
    "# - 'device': Specifies the device to use for running the model (0 for GPU, -1 for CPU).\n",
    "pipe = pipeline('image-classification', model=model_name, device=0)"
   ]
  },
  {
   "cell_type": "code",
   "execution_count": null,
   "metadata": {
    "execution": {
     "iopub.execute_input": "2024-03-18T14:27:09.978079Z",
     "iopub.status.busy": "2024-03-18T14:27:09.977793Z",
     "iopub.status.idle": "2024-03-18T14:27:10.016650Z",
     "shell.execute_reply": "2024-03-18T14:27:10.015816Z",
     "shell.execute_reply.started": "2024-03-18T14:27:09.978054Z"
    },
    "trusted": true
   },
   "outputs": [],
   "source": [
    "# Accessing an image from the 'test_data' dataset using index 1.\n",
    "image = test_data[1][\"image\"]\n",
    "\n",
    "# Displaying the 'image' variable.\n",
    "image"
   ]
  },
  {
   "cell_type": "code",
   "execution_count": null,
   "metadata": {
    "execution": {
     "iopub.execute_input": "2024-03-18T14:27:10.022515Z",
     "iopub.status.busy": "2024-03-18T14:27:10.022173Z",
     "iopub.status.idle": "2024-03-18T14:27:10.051571Z",
     "shell.execute_reply": "2024-03-18T14:27:10.050692Z",
     "shell.execute_reply.started": "2024-03-18T14:27:10.022474Z"
    },
    "trusted": true
   },
   "outputs": [],
   "source": [
    "# Apply the 'pipe' function to process the 'image' variable.\n",
    "pipe(image)"
   ]
  },
  {
   "cell_type": "code",
   "execution_count": null,
   "metadata": {
    "execution": {
     "iopub.execute_input": "2024-03-18T14:27:10.053405Z",
     "iopub.status.busy": "2024-03-18T14:27:10.052820Z",
     "iopub.status.idle": "2024-03-18T14:27:10.062666Z",
     "shell.execute_reply": "2024-03-18T14:27:10.061832Z",
     "shell.execute_reply.started": "2024-03-18T14:27:10.053371Z"
    },
    "trusted": true
   },
   "outputs": [],
   "source": [
    "# This line of code accesses the \"label\" attribute of a specific element in the test_data list.\n",
    "# It's used to retrieve the actual label associated with a test data point.\n",
    "id2label[test_data[1][\"label\"]]"
   ]
  },
  {
   "cell_type": "markdown",
   "metadata": {},
   "source": [
    "# Send model to Huggingface"
   ]
  },
  {
   "cell_type": "code",
   "execution_count": null,
   "metadata": {
    "execution": {
     "iopub.execute_input": "2024-03-18T15:03:45.792905Z",
     "iopub.status.busy": "2024-03-18T15:03:45.792034Z",
     "iopub.status.idle": "2024-03-18T15:03:45.816841Z",
     "shell.execute_reply": "2024-03-18T15:03:45.815934Z",
     "shell.execute_reply.started": "2024-03-18T15:03:45.792872Z"
    },
    "trusted": true
   },
   "outputs": [],
   "source": [
    "# Import the necessary module to interact with the Hugging Face Hub.\n",
    "from huggingface_hub import notebook_login\n",
    "\n",
    "# Perform a login to the Hugging Face Hub.\n",
    "notebook_login()"
   ]
  },
  {
   "cell_type": "code",
   "execution_count": null,
   "metadata": {
    "execution": {
     "iopub.execute_input": "2024-03-18T15:04:05.173172Z",
     "iopub.status.busy": "2024-03-18T15:04:05.172836Z",
     "iopub.status.idle": "2024-03-18T15:04:05.270270Z",
     "shell.execute_reply": "2024-03-18T15:04:05.269381Z",
     "shell.execute_reply.started": "2024-03-18T15:04:05.173146Z"
    },
    "trusted": true
   },
   "outputs": [],
   "source": [
    "# Import the HfApi class from the huggingface_hub library.\n",
    "from huggingface_hub import HfApi\n",
    "\n",
    "# Create an instance of the HfApi class.\n",
    "api = HfApi()\n",
    "\n",
    "# Define the repository ID by combining the username \"dima806\" with the model name.\n",
    "repo_id = f\"dima806/{model_name}\"\n",
    "\n",
    "try:\n",
    "    # Attempt to create a new repository on the Hugging Face Model Hub using the specified repo_id.\n",
    "    api.create_repo(repo_id)\n",
    "    \n",
    "    # If the repository creation is successful, print a message indicating that the repository was created.\n",
    "    print(f\"Repo {repo_id} created\")\n",
    "except:\n",
    "    # If an exception is raised, print a message indicating that the repository already exists.\n",
    "    print(f\"Repo {repo_id} already exists\")"
   ]
  },
  {
   "cell_type": "code",
   "execution_count": null,
   "metadata": {
    "execution": {
     "iopub.execute_input": "2024-03-18T15:04:05.421138Z",
     "iopub.status.busy": "2024-03-18T15:04:05.420317Z",
     "iopub.status.idle": "2024-03-18T15:04:32.865593Z",
     "shell.execute_reply": "2024-03-18T15:04:32.864680Z",
     "shell.execute_reply.started": "2024-03-18T15:04:05.421108Z"
    },
    "trusted": true
   },
   "outputs": [],
   "source": [
    "# Uploading a folder to the Hugging Face Model Hub\n",
    "api.upload_folder(\n",
    "    folder_path=model_name,  # The path to the folder to be uploaded\n",
    "    path_in_repo=\".\",  # The path where the folder will be stored in the repository\n",
    "    repo_id=repo_id,  # The ID of the repository where the folder will be uploaded\n",
    "    repo_type=\"model\",  # The type of the repository (in this case, a model repository)\n",
    "    revision=\"main\" # Revision name\n",
    ")"
   ]
  },
  {
   "cell_type": "code",
   "execution_count": null,
   "metadata": {},
   "outputs": [],
   "source": []
  }
 ],
 "metadata": {
  "kaggle": {
   "accelerator": "gpu",
   "dataSources": [
    {
     "datasetId": 1909705,
     "sourceId": 3134515,
     "sourceType": "datasetVersion"
    }
   ],
   "dockerImageVersionId": 30559,
   "isGpuEnabled": true,
   "isInternetEnabled": true,
   "language": "python",
   "sourceType": "notebook"
  },
  "kernelspec": {
   "display_name": "Python 3",
   "language": "python",
   "name": "python3"
  },
  "language_info": {
   "codemirror_mode": {
    "name": "ipython",
    "version": 3
   },
   "file_extension": ".py",
   "mimetype": "text/x-python",
   "name": "python",
   "nbconvert_exporter": "python",
   "pygments_lexer": "ipython3",
   "version": "3.10.12"
  }
 },
 "nbformat": 4,
 "nbformat_minor": 4
}
